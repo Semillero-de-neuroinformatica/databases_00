{
 "cells": [
  {
   "cell_type": "code",
   "execution_count": null,
   "metadata": {},
   "outputs": [],
   "source": [
    "import numpy as np\n",
    "import mne\n",
    "\n",
    "def calc_kurt(eeg_matrix):\n",
    "\n",
    "    mean = np.mean(eeg_matrix, axis=1, kepdims=True)\n",
    "    desv = np-std(eeg_matrix, axis=1, keepdims=True)\n",
    "    norm_eeg_mat = (eeg_matrix - mean)/desv\n",
    "    curt= np.mean(norm_eeg_mat ** 4, axis=0)\n",
    "    kurtosis = curt-3\n",
    "\n",
    "    return kurtosis, norm_eeg_mat\n",
    "\n",
    "\n",
    "\n",
    "def curtosis_cleaning():\n",
    "    \n"
   ]
  }
 ],
 "metadata": {
  "language_info": {
   "name": "python"
  },
  "orig_nbformat": 4
 },
 "nbformat": 4,
 "nbformat_minor": 2
}
